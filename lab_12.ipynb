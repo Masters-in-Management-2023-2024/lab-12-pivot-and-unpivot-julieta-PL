{
 "cells": [
  {
   "cell_type": "markdown",
   "metadata": {},
   "source": [
    "# Lab 12 - Pivoting and unpivoting\n",
    "\n",
    "This lab focuses on data transformation using pivoting and unpivoting operations with the polars library."
   ]
  },
  {
   "cell_type": "markdown",
   "metadata": {},
   "source": [
    "## Load your packages\n",
    "\n",
    "You will need the `polars` package for this assignment. We'll also use `numpy` for some calculations."
   ]
  },
  {
   "cell_type": "code",
   "execution_count": null,
   "metadata": {},
   "outputs": [],
   "source": [
    "# Import required packages\n",
    "import polars as pl"
   ]
  },
  {
   "cell_type": "markdown",
   "metadata": {},
   "source": [
    "# Question 1: Pivot US Economic Indicator Data"
   ]
  },
  {
   "cell_type": "markdown",
   "metadata": {},
   "source": [
    "## 1a. Pivot data\n",
    "\n",
    "Load the `economics_long.csv` dataset from the `data/` folder. You'll notice that in the `economics_long` dataset's `value` column, there are different types of measurements. Transform this dataset so that the unique values for the `variable` field become columns of their own.\n",
    "\n",
    "**Please write code below to pivot the data. The output should be a DataFrame. You must \"pivot\" the data to receive full credit on this question.**"
   ]
  },
  {
   "cell_type": "code",
   "execution_count": null,
   "metadata": {},
   "outputs": [],
   "source": [
    "# Load economics_long data\n",
    "economics_long = pl.read_csv(\"https://raw.githubusercontent.com/philhetzel/opan5510-class12/refs/heads/main/data/economics_long.csv\")\n",
    "\n",
    "# YOUR CODE HERE: Pivot the data so that each unique value in 'variable' becomes its own column\n",
    "# Hint: Use the pivot() function\n",
    "# The index should be 'date', columns should come from 'variable', and values from 'value'\n",
    "\n",
    "economics_wide = # YOUR CODE HERE\n",
    "\n",
    "# Display the pivoted dataframe\n",
    "economics_wide"
   ]
  },
  {
   "cell_type": "markdown",
   "metadata": {},
   "source": [
    "## 1b. Calculate median unemployment for 2010-01-01 and beyond\n",
    "\n",
    "Next, compute the median unemployment metric (as defined by `unemploy`) for 2010-01-01 and beyond.\n",
    "\n",
    "**Please write code below. The output should show the median value. You must use the dataframe created in 1a.**"
   ]
  },
  {
   "cell_type": "code",
   "execution_count": null,
   "metadata": {},
   "outputs": [],
   "source": [
    "# YOUR CODE HERE: Filter for dates >= '2010-01-01' and calculate median unemployment\n",
    "# Hint: You'll need to filter the dataframe and then calculate the median of the 'unemploy' column\n",
    "\n",
    "median_unemploy = # YOUR CODE HERE\n",
    "\n",
    "print(f\"The median unemployment for 2010-01-01 and beyond is: {median_unemploy}\")"
   ]
  },
  {
   "cell_type": "markdown",
   "metadata": {},
   "source": [
    "### Answer: The median unemployment for 2010-01-01 and beyond is: __________"
   ]
  },
  {
   "cell_type": "markdown",
   "metadata": {},
   "source": [
    "# Question 2: Air Passenger data"
   ]
  },
  {
   "cell_type": "markdown",
   "metadata": {},
   "source": [
    "## 2a. Unpivot data\n",
    "\n",
    "The `AirPassengers` dataset is wide, which makes it difficult to aggregate. Transform the `AirPassengers` dataset from wide to long. The resulting dataset should have three columns: one column representing year, one column representing month, and one column representing the number of air passengers.\n",
    "\n",
    "**Please write code below to unpivot the data. The output should be a DataFrame. You must \"unpivot\" the data to receive full credit on this question.**"
   ]
  },
  {
   "cell_type": "code",
   "execution_count": null,
   "metadata": {},
   "outputs": [],
   "source": [
    "# Load AirPassengers data\n",
    "# Note: You may need to specify separator if it's not comma-separated\n",
    "air_passengers = pl.read_csv(\"https://raw.githubusercontent.com/philhetzel/opan5510-class12/refs/heads/main/data/AirPassengers.txt\", separator=\"\\t\")  # Adjust separator if needed\n",
    "\n",
    "# Display the original data structure\n",
    "print(\"Original data shape:\", air_passengers.shape)\n",
    "print(\"\\nFirst few rows:\")\n",
    "print(air_passengers.head())\n",
    "\n",
    "# YOUR CODE HERE: Transform from wide to long format\n",
    "# Hint: Use unpivot() function to unpivot the data\n",
    "# You'll need to identify which columns represent months and unpivot them\n",
    "# Use 'index' for columns to keep and 'on' for columns to unpivot\n",
    "\n",
    "air_passengers_long = # YOUR CODE HERE\n",
    "\n",
    "# Display the unpivoted dataframe\n",
    "air_passengers_long"
   ]
  },
  {
   "cell_type": "markdown",
   "metadata": {},
   "source": [
    "## 2b. Find the standard deviation between 1955 and 1960\n",
    "\n",
    "Next, compute the standard deviation of passengers between (and including) the years 1955 and 1960.\n",
    "\n",
    "**Please write code below. The output should show the standard deviation. You must use the dataframe created in 2a.**"
   ]
  },
  {
   "cell_type": "code",
   "execution_count": null,
   "metadata": {},
   "outputs": [],
   "source": [
    "# YOUR CODE HERE: Filter for years 1955-1960 and calculate standard deviation\n",
    "# Hint: Filter the long format data for years between 1955 and 1960 (inclusive)\n",
    "# Then calculate the standard deviation of the passenger values\n",
    "\n",
    "std_passengers = # YOUR CODE HERE\n",
    "\n",
    "print(f\"The standard deviation of airline passengers between 1955 and 1960 is: {std_passengers:.2f}\")"
   ]
  },
  {
   "cell_type": "markdown",
   "metadata": {},
   "source": [
    "### The standard deviation of airline passengers between (and including) the years 1955 and 1960 is: __________"
   ]
  },
  {
   "cell_type": "markdown",
   "metadata": {},
   "source": [
    "# Question 3: WHO tuberculosis case data"
   ]
  },
  {
   "cell_type": "markdown",
   "metadata": {},
   "source": [
    "## 3a. Pivot data\n",
    "\n",
    "Load the `table2.csv` dataset from the `data/` folder. This contains data for country populations and tuberculosis case metrics. You'll notice that the metrics for `cases` and `population` are in the same column (`count`). Pivot the data so that the metrics for `cases` and `population` are in their own columns.\n",
    "\n",
    "**Please write code below to pivot the data. The output should be a DataFrame. You must \"pivot\" the data to receive full credit on this question.**"
   ]
  },
  {
   "cell_type": "code",
   "execution_count": null,
   "metadata": {},
   "outputs": [],
   "source": [
    "# Load table2 data\n",
    "table2 = pl.read_csv(\"https://raw.githubusercontent.com/philhetzel/opan5510-class12/refs/heads/main/data/table2.csv\")\n",
    "\n",
    "# Display the original data structure\n",
    "print(\"Original data:\")\n",
    "print(table2)\n",
    "\n",
    "# YOUR CODE HERE: Pivot the data so 'cases' and 'population' are separate columns\n",
    "# Hint: Use pivot() where the values in 'type' column become new column names\n",
    "# and values come from the 'count' column\n",
    "\n",
    "table2_wide = # YOUR CODE HERE\n",
    "\n",
    "# Display the pivoted dataframe\n",
    "table2_wide"
   ]
  },
  {
   "cell_type": "markdown",
   "metadata": {},
   "source": [
    "## 3b. Calculate highest cases/population ratio for 1999\n",
    "\n",
    "Now that you have `cases` and `population` in their own columns, you can perform analysis. Create a new column in this dataset called `ratio` that divides `cases` by `population`. Next, filter the data to only include rows from the `year` of 1999. What is the country with the highest `cases`/`population` ratio?\n",
    "\n",
    "**Please write code below. You must use the dataframe created in 3a.**"
   ]
  },
  {
   "cell_type": "code",
   "execution_count": null,
   "metadata": {},
   "outputs": [],
   "source": [
    "# YOUR CODE HERE: \n",
    "# 1. Add a 'ratio' column that calculates cases/population\n",
    "# 2. Filter for year 1999\n",
    "# 3. Find the country with the highest ratio\n",
    "\n",
    "table2_with_ratio = # YOUR CODE HERE to add ratio column\n",
    "\n",
    "# Filter for 1999 and find highest ratio\n",
    "year_1999 = # YOUR CODE HERE\n",
    "\n",
    "# Find country with highest ratio\n",
    "highest_ratio_country = # YOUR CODE HERE\n",
    "\n",
    "print(\"Data for 1999 with ratios:\")\n",
    "print(year_1999)\n",
    "print(f\"\\nThe country with the highest cases/population ratio in 1999 is: {highest_ratio_country}\")"
   ]
  },
  {
   "cell_type": "markdown",
   "metadata": {},
   "source": [
    "### Answer: The country with the highest cases/population ratio in 1999 is: __________"
   ]
  },
  {
   "cell_type": "markdown",
   "metadata": {},
   "source": [
    "## Submission Instructions\n",
    "\n",
    "1. Complete all code cells above\n",
    "2. Run all cells to ensure they execute without errors\n",
    "3. Fill in the answer blanks with your computed values\n",
    "4. Save and submit your completed notebook"
   ]
  }
 ],
 "metadata": {
  "kernelspec": {
   "display_name": "Python 3",
   "language": "python",
   "name": "python3"
  },
  "language_info": {
   "codemirror_mode": {
    "name": "ipython",
    "version": 3
   },
   "file_extension": ".py",
   "mimetype": "text/x-python",
   "name": "python",
   "nbconvert_exporter": "python",
   "pygments_lexer": "ipython3",
   "version": "3.9.0"
  }
 },
 "nbformat": 4,
 "nbformat_minor": 4
}
